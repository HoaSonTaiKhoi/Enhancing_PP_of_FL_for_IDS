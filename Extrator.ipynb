{
 "cells": [
  {
   "cell_type": "code",
   "execution_count": 1,
   "metadata": {},
   "outputs": [],
   "source": [
    "import numpy as np\n",
    "import matplotlib.pyplot as plt\n",
    "import pandas as pd\n",
    "\n",
    "data1 = pd.read_csv(\"./Dataset/part-00000-363d1ba3-8ab5-4f96-bc25-4d5862db7cb9-c000.csv\")"
   ]
  },
  {
   "cell_type": "code",
   "execution_count": 2,
   "metadata": {},
   "outputs": [
    {
     "name": "stdout",
     "output_type": "stream",
     "text": [
      "[[0.00000000e+00 5.40000000e+01 6.00000000e+00 ... 0.00000000e+00\n",
      "  0.00000000e+00 1.41550000e+02]\n",
      " [0.00000000e+00 5.70400000e+01 6.33000000e+00 ... 1.60987842e+02\n",
      "  5.00000000e-02 1.41550000e+02]\n",
      " [0.00000000e+00 0.00000000e+00 1.00000000e+00 ... 0.00000000e+00\n",
      "  0.00000000e+00 1.41550000e+02]\n",
      " ...\n",
      " [7.85260201e-04 5.62900000e+01 6.11000000e+00 ... 6.71167282e-01\n",
      "  3.00000000e-02 1.41550000e+02]\n",
      " [9.01250839e-04 7.20900000e+01 6.11000000e+00 ... 5.59942239e+01\n",
      "  1.70000000e-01 1.41550000e+02]\n",
      " [0.00000000e+00 0.00000000e+00 1.00000000e+00 ... 0.00000000e+00\n",
      "  0.00000000e+00 1.41550000e+02]]\n",
      "['DDoS-RSTFINFlood' 'DoS-TCP_Flood' 'DDoS-ICMP_Flood' ... 'DDoS-SYN_Flood'\n",
      " 'DDoS-PSHACK_Flood' 'DDoS-ICMP_Flood']\n"
     ]
    }
   ],
   "source": [
    "X = data1.iloc[:, :-1].values\n",
    "yi = data1.iloc[:, -1].values\n",
    "print(X)\n",
    "print(yi)\n"
   ]
  },
  {
   "cell_type": "code",
   "execution_count": 5,
   "metadata": {},
   "outputs": [
    {
     "data": {
      "text/plain": [
       "47"
      ]
     },
     "execution_count": 5,
     "metadata": {},
     "output_type": "execute_result"
    }
   ],
   "source": [
    "# from sklearn.impute import SimpleImputer\n",
    "# imputer = SimpleImputer(missing_values=np.nan, strategy='mean')\n",
    "# imputer.fit(X[:, 1:3])\n",
    "\n",
    "# X[:, 1:3] = imputer.transform(X[:, 1:3])\n",
    "\n",
    "data1.describe()\n",
    "data1.shape[1]"
   ]
  },
  {
   "cell_type": "code",
   "execution_count": 12,
   "metadata": {},
   "outputs": [
    {
     "name": "stdout",
     "output_type": "stream",
     "text": [
      "{'Backdoor_Malware': 1, 'BenignTraffic': 0, 'BrowserHijacking': 2, 'CommandInjection': 3, 'DDoS-ACK_Fragmentation': 4, 'DDoS-HTTP_Flood': 4, 'DDoS-ICMP_Flood': 4, 'DDoS-ICMP_Fragmentation': 4, 'DDoS-PSHACK_Flood': 4, 'DDoS-RSTFINFlood': 4, 'DDoS-SYN_Flood': 4, 'DDoS-SlowLoris': 4, 'DDoS-SynonymousIP_Flood': 4, 'DDoS-TCP_Flood': 4, 'DDoS-UDP_Flood': 4, 'DDoS-UDP_Fragmentation': 4, 'DNS_Spoofing': 8, 'DictionaryBruteForce': 6, 'DoS-HTTP_Flood': 5, 'DoS-SYN_Flood': 5, 'DoS-TCP_Flood': 5, 'DoS-UDP_Flood': 5, 'MITM-ArpSpoofing': 8, 'Mirai-greeth_flood': 7, 'Mirai-greip_flood': 7, 'Mirai-udpplain': 7, 'Recon-HostDiscovery': 9, 'Recon-OSScan': 9, 'Recon-PingSweep': 9, 'Recon-PortScan': 9, 'SqlInjection': 3, 'Uploading_Attack': -1, 'VulnerabilityScan': -1, 'XSS': 10}\n",
      "[4 5 4 ... 4 4 4]\n"
     ]
    },
    {
     "name": "stderr",
     "output_type": "stream",
     "text": [
      "c:\\Users\\hoang\\AppData\\Local\\Programs\\Python\\Python311\\Lib\\site-packages\\sklearn\\preprocessing\\_encoders.py:975: FutureWarning: `sparse` was renamed to `sparse_output` in version 1.2 and will be removed in 1.4. `sparse_output` is ignored unless you leave `sparse` to its default value.\n",
      "  warnings.warn(\n"
     ]
    }
   ],
   "source": [
    "from sklearn.compose import ColumnTransformer\n",
    "from sklearn.preprocessing import OneHotEncoder\n",
    "\n",
    "y = np.array(yi).reshape(-1, 1)\n",
    "\n",
    "attack_types =[\"Benign\", \"Backdoor\", \"Hijacking\", \"Injection\", \"DDoS\",  \"DoS\", \n",
    "                         \"BruteForce\", \"Mirai\", \"Spoofing\", \"Recon\", \"XSS\"]\n",
    "\n",
    "label_mapping = {}\n",
    "\n",
    "# Init\n",
    "encode = OneHotEncoder(sparse=False)\n",
    "\n",
    "# Mã hóa dữ liệu\n",
    "y_encoded = encode.fit_transform(y)\n",
    "\n",
    "# lấy list label\n",
    "labels = encode.categories_[0]\n",
    "\n",
    "## mapping\n",
    "for label in labels:\n",
    "    label_mapping[label]= -1\n",
    "    for inx, type in enumerate(attack_types):\n",
    "        if label.find(type)!=-1:\n",
    "            label_mapping[label] = inx\n",
    "            break\n",
    "\n",
    "print(label_mapping)\n",
    "\n",
    "# benign_index = np.where(labels == \"BenignTraffic\")[0][0]\n",
    "\n",
    "# y_transed = 1 - y_encoded[:, benign_index]\n",
    "\n",
    "# print (y_transed)\n",
    "for i, value in enumerate(yi):\n",
    "    yi[i]= label_mapping.get(value, -1)\n",
    "\n",
    "print(yi)"
   ]
  },
  {
   "cell_type": "code",
   "execution_count": 5,
   "metadata": {},
   "outputs": [
    {
     "name": "stdout",
     "output_type": "stream",
     "text": [
      "False\n",
      "WARNING:tensorflow:From C:\\Users\\hoang\\AppData\\Local\\Temp\\ipykernel_6736\\3243427353.py:2: is_gpu_available (from tensorflow.python.framework.test_util) is deprecated and will be removed in a future version.\n",
      "Instructions for updating:\n",
      "Use `tf.config.list_physical_devices('GPU')` instead.\n",
      "False\n"
     ]
    }
   ],
   "source": [
    "print(tf.test.is_built_with_cuda())  # True nếu có hỗ trợ CUDA\n",
    "print(tf.test.is_gpu_available())  # True nếu GPU đang được dùng"
   ]
  },
  {
   "cell_type": "code",
   "execution_count": 13,
   "metadata": {},
   "outputs": [
    {
     "name": "stdout",
     "output_type": "stream",
     "text": [
      "[4 5 4 ... 4 4 4]\n",
      "[[0. 0. 0. ... 0. 0. 0.]\n",
      " [0. 0. 0. ... 0. 0. 0.]\n",
      " [0. 0. 0. ... 0. 0. 0.]\n",
      " ...\n",
      " [0. 0. 0. ... 0. 0. 0.]\n",
      " [0. 0. 0. ... 0. 0. 0.]\n",
      " [0. 0. 0. ... 0. 0. 0.]]\n"
     ]
    }
   ],
   "source": [
    "from tensorflow.keras.utils import to_categorical\n",
    "import numpy as np\n",
    "\n",
    "#One Hot Encoder\n",
    "yi = np.array(yi)\n",
    "print(yi)\n",
    "\n",
    "num_classes = len(label_mapping)\n",
    "y_encoded = to_categorical(yi, num_classes)\n",
    "\n",
    "print(y_encoded)"
   ]
  }
 ],
 "metadata": {
  "kernelspec": {
   "display_name": "Python 3",
   "language": "python",
   "name": "python3"
  },
  "language_info": {
   "codemirror_mode": {
    "name": "ipython",
    "version": 3
   },
   "file_extension": ".py",
   "mimetype": "text/x-python",
   "name": "python",
   "nbconvert_exporter": "python",
   "pygments_lexer": "ipython3",
   "version": "3.11.5"
  }
 },
 "nbformat": 4,
 "nbformat_minor": 2
}
