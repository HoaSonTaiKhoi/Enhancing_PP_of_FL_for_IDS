{
 "cells": [
  {
   "cell_type": "code",
   "execution_count": 1,
   "metadata": {},
   "outputs": [],
   "source": [
    "import numpy as np\n",
    "import pandas as pd\n",
    "import tensorflow as tf\n",
    "from tensorflow.keras.utils import Sequence, to_categorical\n",
    "from tensorflow.keras.models import Sequential\n",
    "from tensorflow.keras import layers, models\n",
    "from tensorflow.keras.layers import Conv1D, MaxPooling1D, Flatten, Dense, Dropout\n",
    "\n",
    "\n",
    "file_path = \"Processed_Data/Mapped_Dataset.csv\"\n",
    "\n",
    "global train_gen\n",
    "def data_generator(file_path, batch_size=512, num_classes=10):\n",
    "    while True:  # Vòng lặp vô hạn\n",
    "        chunks = pd.read_csv(file_path, chunksize=batch_size)\n",
    "        for chunk in chunks:\n",
    "            X = chunk.iloc[:, :-1].values.reshape(-1, 46, 1)  # Định dạng input\n",
    "            y = chunk.iloc[:, -1].values\n",
    "            y_onehot = to_categorical(y, num_classes=num_classes)\n",
    "            yield X, y_onehot\n",
    "    \n",
    "    # chunks = pd.read_csv(file_path, chunksize=batch_size)\n",
    "    \n",
    "    # for chunk in chunks:\n",
    "    #     X = chunk.iloc[:, :-1].values.reshape(-1, 46, 1)  # Định dạng input\n",
    "    #     y = chunk.iloc[:, -1].values\n",
    "    #     y_onehot = to_categorical(y, num_classes=num_classes)\n",
    "    #     yield X, y_onehot\n",
    "\n",
    "\n"
   ]
  },
  {
   "cell_type": "code",
   "execution_count": 2,
   "metadata": {},
   "outputs": [
    {
     "name": "stdout",
     "output_type": "stream",
     "text": [
      "Epoch 1/10\n",
      "90000/90000 [==============================] - 1388s 15ms/step - loss: 0.5495 - accuracy: 0.7981\n",
      "Epoch 2/10\n",
      "90000/90000 [==============================] - 1413s 16ms/step - loss: 0.4507 - accuracy: 0.8230\n",
      "Epoch 3/10\n",
      "90000/90000 [==============================] - 1407s 16ms/step - loss: 0.4079 - accuracy: 0.8360\n",
      "Epoch 4/10\n",
      "90000/90000 [==============================] - 1407s 16ms/step - loss: 0.3934 - accuracy: 0.8402\n",
      "Epoch 5/10\n",
      "90000/90000 [==============================] - 1401s 16ms/step - loss: 0.4511 - accuracy: 0.8230\n",
      "Epoch 6/10\n",
      "90000/90000 [==============================] - 1417s 16ms/step - loss: 0.4697 - accuracy: 0.8171\n",
      "Epoch 7/10\n",
      "90000/90000 [==============================] - 1413s 16ms/step - loss: 0.6044 - accuracy: 0.7811\n",
      "Epoch 8/10\n",
      "90000/90000 [==============================] - 1408s 16ms/step - loss: 0.4655 - accuracy: 0.8176\n",
      "Epoch 9/10\n",
      "90000/90000 [==============================] - 1406s 16ms/step - loss: 0.3553 - accuracy: 0.8541\n",
      "Epoch 10/10\n",
      "90000/90000 [==============================] - 1404s 16ms/step - loss: 0.5002 - accuracy: 0.8060\n"
     ]
    },
    {
     "name": "stderr",
     "output_type": "stream",
     "text": [
      "c:\\Users\\hoang\\AppData\\Local\\Programs\\Python\\Python311\\Lib\\site-packages\\keras\\src\\engine\\training.py:3000: UserWarning: You are saving your model as an HDF5 file via `model.save()`. This file format is considered legacy. We recommend using instead the native Keras format, e.g. `model.save('my_model.keras')`.\n",
      "  saving_api.save_model(\n"
     ]
    }
   ],
   "source": [
    "train_gen = data_generator(file_path, batch_size=512, num_classes=10)\n",
    "\n",
    "from tensorflow import keras\n",
    "# Định nghĩa mô hình CNN\n",
    "# VGG, ...\n",
    "# Conv2D, tabular, ...\n",
    "# HE, tính tương thích của HE với CNN\n",
    "# Tính chất data in, out; Học tăng cường\n",
    "\n",
    "model = keras.Sequential([\n",
    "    layers.Input(shape=(46,1)),\n",
    "    layers.Conv1D(filters=32, kernel_size=3, padding=\"same\",activation=\"relu\"),\n",
    "    layers.MaxPooling1D(pool_size=2),\n",
    "    layers.Flatten(),\n",
    "    layers.Dense(128, activation='relu'),\n",
    "    layers.Dropout(0,5),\n",
    "    layers.BatchNormalization(),\n",
    "    layers.Dense(10, activation='softmax')\n",
    "])\n",
    "\n",
    "model.compile(optimizer='adam', loss='categorical_crossentropy', metrics=['accuracy'])\n",
    "\n",
    "model.fit(train_gen, epochs=10, steps_per_epoch=90000)\n",
    "\n",
    "# Lưu mô hình\n",
    "model.save(\"cnn_model.h5\")"
   ]
  }
 ],
 "metadata": {
  "kernelspec": {
   "display_name": "Python 3",
   "language": "python",
   "name": "python3"
  },
  "language_info": {
   "codemirror_mode": {
    "name": "ipython",
    "version": 3
   },
   "file_extension": ".py",
   "mimetype": "text/x-python",
   "name": "python",
   "nbconvert_exporter": "python",
   "pygments_lexer": "ipython3",
   "version": "3.11.5"
  }
 },
 "nbformat": 4,
 "nbformat_minor": 2
}
