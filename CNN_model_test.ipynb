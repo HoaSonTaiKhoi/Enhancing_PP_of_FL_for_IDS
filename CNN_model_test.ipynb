{
 "cells": [
  {
   "cell_type": "code",
   "execution_count": 3,
   "metadata": {},
   "outputs": [],
   "source": [
    "import sqlite3\n",
    "import numpy as np\n",
    "import pandas as pd\n",
    "import tensorflow as tf\n",
    "from tensorflow.keras.utils import Sequence, to_categorical\n",
    "from tensorflow.keras.models import Sequential\n",
    "from tensorflow.keras import layers, models\n",
    "from tensorflow.keras.layers import Conv1D, MaxPooling1D, Flatten, Dense, Dropout\n",
    "\n",
    "\n",
    "file_path = \"Processed_Data/Mapped_Dataset.csv\"\n",
    "\n",
    "def data_generator(file_path, batch_size=512, num_classes=10):\n",
    "    chunks = pd.read_csv(file_path, chunksize=batch_size)\n",
    "    \n",
    "    for chunk in chunks:\n",
    "        X = chunk.iloc[:, :-1].values.reshape(-1, 46, 1)  # Định dạng input\n",
    "        y = chunk.iloc[:, -1].values\n",
    "        y_onehot = to_categorical(y, num_classes=num_classes)\n",
    "        yield X, y_onehot\n",
    "\n",
    "# Tạo callback -> kết thúc epoch thì regenerate train_gen        \n",
    "from tensorflow.keras.callbacks import Callback\n",
    "\n",
    "class ResetGeneratorCallback(Callback):\n",
    "    def __init__(self, file_path, batch_size=512, num_classes=10):\n",
    "        self.file_path = file_path\n",
    "        self.batch_size = batch_size\n",
    "        self.num_classes = num_classes\n",
    "\n",
    "    def on_epoch_end(self, epoch, logs=None):\n",
    "        global train_gen  # Cập nhật biến toàn cục\n",
    "        print(f\"\\nEpoch {epoch+1} kết thúc, tạo generator mới...\\n\")\n",
    "        train_gen = data_generator(self.file_path, self.batch_size, self.num_classes)  # Reset generator\n"
   ]
  },
  {
   "cell_type": "code",
   "execution_count": null,
   "metadata": {},
   "outputs": [
    {
     "name": "stdout",
     "output_type": "stream",
     "text": [
      "Epoch 1/10\n",
      "91084/91084 [==============================] - 1591s 17ms/step - loss: 0.5323 - accuracy: 0.8016\n",
      "Epoch 2/10\n",
      "WARNING:tensorflow:Your input ran out of data; interrupting training. Make sure that your dataset or generator can generate at least `steps_per_epoch * epochs` batches (in this case, 910840 batches). You may need to use the repeat() function when building your dataset.\n",
      "91084/91084 [==============================] - 0s 0us/step - loss: 0.0000e+00 - accuracy: 0.0000e+00\n"
     ]
    },
    {
     "name": "stderr",
     "output_type": "stream",
     "text": [
      "c:\\Users\\hoang\\AppData\\Local\\Programs\\Python\\Python311\\Lib\\site-packages\\keras\\src\\engine\\training.py:3000: UserWarning: You are saving your model as an HDF5 file via `model.save()`. This file format is considered legacy. We recommend using instead the native Keras format, e.g. `model.save('my_model.keras')`.\n",
      "  saving_api.save_model(\n"
     ]
    }
   ],
   "source": [
    "train_gen = data_generator(file_path, batch_size=512, num_classes=10)\n",
    "\n",
    "from tensorflow import keras\n",
    "# Định nghĩa mô hình CNN\n",
    "# VGG, ...\n",
    "# Conv2D, tabular, ...\n",
    "# HE, tính tương thích của HE với CNN\n",
    "# Tính chất data in, out; Học tăng cường\n",
    "\n",
    "model = keras.Sequential([\n",
    "    layers.Input(shape=(46,1)),\n",
    "    layers.Conv1D(filters=32, kernel_size=3, padding=\"same\",activation=\"relu\"),\n",
    "    layers.MaxPooling1D(pool_size=2),\n",
    "    layers.Flatten(),\n",
    "    layers.Dense(128, activation='relu'),\n",
    "    layers.Dropout(0,5),\n",
    "    layers.BatchNormalization(),\n",
    "    layers.Dense(10, activation='softmax')\n",
    "])\n",
    "\n",
    "model.compile(optimizer='adam', loss='categorical_crossentropy', metrics=['accuracy'])\n",
    "\n",
    "#Reset gen\n",
    "reset_callback = ResetGeneratorCallback(file_path, batch_size=512, num_classes=10)\n",
    "model.fit(train_gen, epochs=10, callbacks = [reset_callback])\n",
    "\n",
    "# Lưu mô hình\n",
    "model.save(\"cnn_model.h5\")"
   ]
  }
 ],
 "metadata": {
  "kernelspec": {
   "display_name": "Python 3",
   "language": "python",
   "name": "python3"
  },
  "language_info": {
   "codemirror_mode": {
    "name": "ipython",
    "version": 3
   },
   "file_extension": ".py",
   "mimetype": "text/x-python",
   "name": "python",
   "nbconvert_exporter": "python",
   "pygments_lexer": "ipython3",
   "version": "3.11.5"
  }
 },
 "nbformat": 4,
 "nbformat_minor": 2
}
